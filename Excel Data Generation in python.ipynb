{
 "cells": [
  {
   "cell_type": "code",
   "execution_count": 1,
   "id": "69c55e92-23d8-4cef-b161-244a1a5a2ef7",
   "metadata": {},
   "outputs": [
    {
     "name": "stdout",
     "output_type": "stream",
     "text": [
      "Generated CSV and Excel files with 3288 rows.\n"
     ]
    }
   ],
   "source": [
    "import pandas as pd\n",
    "import numpy as np\n",
    "from datetime import datetime, timedelta\n",
    "import random\n",
    "\n",
    "# 1. Date range\n",
    "start = datetime(2022,1,1)\n",
    "end = datetime(2024,12,31)\n",
    "dates = pd.date_range(start, end)\n",
    "\n",
    "# 2. Salespersons list (using realistic Bengali first & last names)\n",
    "first_names = [\"Arjun\", \"Priya\", \"Rohit\", \"Neha\", \"Sumit\", \"Rina\", \"Anindyo\", \"Aparna\", \"Ashalata\", \"Kaushik\"]\n",
    "surnames = [\"Banerjee\",\"Bhattacharya\",\"Das\",\"Dutta\",\"Ghosh\",\"Chatterjee\",\"Mitra\",\"Roy\",\"Sen\",\"Bose\"]\n",
    "salespersons = [\" \".join([random.choice(first_names), random.choice(surnames)]) for _ in range(20)]\n",
    "\n",
    "# 3. Categories & products\n",
    "categories = {\n",
    "  \"Grocery\": [\"Rice\",\"Dal\",\"Oil\",\"Sugar\",\"Tea\"],\n",
    "  \"Electronics\": [\"TV\",\"Mobile\",\"Laptop\",\"Camera\",\"Headphones\"],\n",
    "  \"Clothing\": [\"Shirt\",\"Trousers\",\"Dress\",\"Jacket\",\"Shoes\"],\n",
    "  \"Home\": [\"Cookware Set\",\"Cushion Cover\",\"Mop\",\"Lamp\",\"Cutlery\"],\n",
    "  \"Personal Care\": [\"Shampoo\",\"Soap\",\"Toothpaste\",\"Lotion\",\"Perfume\"]\n",
    "}\n",
    "payment_methods = [\"Cash\",\"Card\",\"Online\"]\n",
    "locations = [\"Central Kolkata\",\"South Kolkata\",\"North Kolkata\",\"East Kolkata\"]\n",
    "\n",
    "rows = []\n",
    "txn_counter = 1\n",
    "for date in dates:\n",
    "    num_txn = 3\n",
    "    for _ in range(num_txn):\n",
    "        cat = random.choice(list(categories.keys()))\n",
    "        prod = random.choice(categories[cat])\n",
    "        qty = random.randint(1,10)\n",
    "        price = int(np.round(random.uniform(30,50000) if cat==\"Electronics\" else random.uniform(30,2000)))\n",
    "        sp = random.choice(salespersons)\n",
    "        rows.append({\n",
    "            \"Date\": date.strftime(\"%Y-%m-%d\"),\n",
    "            \"Transaction ID\": f\"TRN{date.strftime('%Y%m%d')}-{txn_counter:04d}\",\n",
    "            \"Customer ID\": f\"CUST{random.randint(100000,999999)}\",\n",
    "            \"Product Category\": cat,\n",
    "            \"Product Name\": prod,\n",
    "            \"Quantity\": qty,\n",
    "            \"Unit Price\": price,\n",
    "            \"Payment Method\": random.choice(payment_methods),\n",
    "            \"Store Location\": random.choice(locations),\n",
    "            \"Salesperson ID\": f\"SP{salespersons.index(sp)+1:03d}\",\n",
    "            \"Salesperson Name\": sp\n",
    "        })\n",
    "        txn_counter += 1\n",
    "\n",
    "df = pd.DataFrame(rows)\n",
    "df.to_csv(\"store_sales_2022_2024.csv\", index=False)\n",
    "df.to_excel(\"store_sales_2022_2024.xlsx\", index=False)\n",
    "print(\"Generated CSV and Excel files with\", len(df), \"rows.\")\n"
   ]
  },
  {
   "cell_type": "code",
   "execution_count": null,
   "id": "2156e1eb-ab1a-4168-8025-4fa5db16bf87",
   "metadata": {},
   "outputs": [],
   "source": []
  }
 ],
 "metadata": {
  "kernelspec": {
   "display_name": "anaconda-2024.02-py310",
   "language": "python",
   "name": "conda-env-anaconda-2024.02-py310-py"
  },
  "language_info": {
   "codemirror_mode": {
    "name": "ipython",
    "version": 3
   },
   "file_extension": ".py",
   "mimetype": "text/x-python",
   "name": "python",
   "nbconvert_exporter": "python",
   "pygments_lexer": "ipython3",
   "version": "3.10.14"
  }
 },
 "nbformat": 4,
 "nbformat_minor": 5
}
